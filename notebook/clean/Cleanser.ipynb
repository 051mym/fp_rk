{
 "cells": [
  {
   "cell_type": "code",
   "execution_count": 1,
   "metadata": {},
   "outputs": [],
   "source": [
    "import pandas as pd\n",
    "import csv\n",
    "import os\n",
    "import numpy as np\n",
    "from nltk import pos_tag, word_tokenize\n",
    "from ingredient_parser.en import parse \n",
    "pd.set_option('display.expand_frame_repr', False)\n"
   ]
  },
  {
   "cell_type": "code",
   "execution_count": 12,
   "metadata": {},
   "outputs": [
    {
     "output_type": "execute_result",
     "data": {
      "text/plain": [
       "   recipe_id recipe_tag                       title  rating  total_reviews                                        ingredients  calories  carbs  protein cholesterol sodium\n",
       "0          1    italian  Italian Chicken Cacciatore    5.00              3  [u'1/4 cup olive oil, divided', u'1 onion, dic...       587   36.5     38.8         117   1707\n",
       "1          2    italian      Spaghetti Cacio e Pepe    4.58             73  [u'1 pound spaghetti', u'6 tablespoons olive o...       806   87.8     31.6          54    633\n",
       "2          3    italian               Easy Caponata    4.67              3  [u'2 stalks stalk celery, chopped into 1/4-inc...       289   25.2      4.4           0    424\n",
       "3          4    italian       Chef John's Lemon Ice    4.64             10  [u'4 cups cold water', u'7/8 cup white sugar',...        94   24.8      0.1           0      4\n",
       "4          5    italian           Focaccia di Recco    4.60             17  [u'2 cups all-purpose flour', u'1/2 cup cold w...       186   24.1      4.7           7    327"
      ],
      "text/html": "<div>\n<style scoped>\n    .dataframe tbody tr th:only-of-type {\n        vertical-align: middle;\n    }\n\n    .dataframe tbody tr th {\n        vertical-align: top;\n    }\n\n    .dataframe thead th {\n        text-align: right;\n    }\n</style>\n<table border=\"1\" class=\"dataframe\">\n  <thead>\n    <tr style=\"text-align: right;\">\n      <th></th>\n      <th>recipe_id</th>\n      <th>recipe_tag</th>\n      <th>title</th>\n      <th>rating</th>\n      <th>total_reviews</th>\n      <th>ingredients</th>\n      <th>calories</th>\n      <th>carbs</th>\n      <th>protein</th>\n      <th>cholesterol</th>\n      <th>sodium</th>\n    </tr>\n  </thead>\n  <tbody>\n    <tr>\n      <th>0</th>\n      <td>1</td>\n      <td>italian</td>\n      <td>Italian Chicken Cacciatore</td>\n      <td>5.00</td>\n      <td>3</td>\n      <td>[u'1/4 cup olive oil, divided', u'1 onion, dic...</td>\n      <td>587</td>\n      <td>36.5</td>\n      <td>38.8</td>\n      <td>117</td>\n      <td>1707</td>\n    </tr>\n    <tr>\n      <th>1</th>\n      <td>2</td>\n      <td>italian</td>\n      <td>Spaghetti Cacio e Pepe</td>\n      <td>4.58</td>\n      <td>73</td>\n      <td>[u'1 pound spaghetti', u'6 tablespoons olive o...</td>\n      <td>806</td>\n      <td>87.8</td>\n      <td>31.6</td>\n      <td>54</td>\n      <td>633</td>\n    </tr>\n    <tr>\n      <th>2</th>\n      <td>3</td>\n      <td>italian</td>\n      <td>Easy Caponata</td>\n      <td>4.67</td>\n      <td>3</td>\n      <td>[u'2 stalks stalk celery, chopped into 1/4-inc...</td>\n      <td>289</td>\n      <td>25.2</td>\n      <td>4.4</td>\n      <td>0</td>\n      <td>424</td>\n    </tr>\n    <tr>\n      <th>3</th>\n      <td>4</td>\n      <td>italian</td>\n      <td>Chef John's Lemon Ice</td>\n      <td>4.64</td>\n      <td>10</td>\n      <td>[u'4 cups cold water', u'7/8 cup white sugar',...</td>\n      <td>94</td>\n      <td>24.8</td>\n      <td>0.1</td>\n      <td>0</td>\n      <td>4</td>\n    </tr>\n    <tr>\n      <th>4</th>\n      <td>5</td>\n      <td>italian</td>\n      <td>Focaccia di Recco</td>\n      <td>4.60</td>\n      <td>17</td>\n      <td>[u'2 cups all-purpose flour', u'1/2 cup cold w...</td>\n      <td>186</td>\n      <td>24.1</td>\n      <td>4.7</td>\n      <td>7</td>\n      <td>327</td>\n    </tr>\n  </tbody>\n</table>\n</div>"
     },
     "metadata": {},
     "execution_count": 12
    }
   ],
   "source": [
    "recipes = pd.read_csv('../../data/recipes.csv')\n",
    "recipes.columns=['recipe_id', 'recipe_tag', 'title', 'rating', 'total_reviews', 'ingredients', 'calories', 'carbs',\\\n",
    "                'protein', 'cholesterol', 'sodium']\n",
    "recipes.head()"
   ]
  },
  {
   "cell_type": "code",
   "execution_count": 13,
   "metadata": {},
   "outputs": [
    {
     "output_type": "execute_result",
     "data": {
      "text/plain": [
       "   recipe_id recipe_tag                       title  rating  total_reviews                                        ingredients  calories  carbs  protein cholesterol sodium\n",
       "0          1    italian  Italian Chicken Cacciatore    5.00              3  [1/4 cup olive oil, divided,  1 onion, diced, ...       587   36.5     38.8         117   1707\n",
       "1          2    italian      Spaghetti Cacio e Pepe    4.58             73  [1 pound spaghetti,  6 tablespoons olive oil, ...       806   87.8     31.6          54    633\n",
       "2          3    italian               Easy Caponata    4.67              3  [2 stalks stalk celery, chopped into 1/4-inch ...       289   25.2      4.4           0    424\n",
       "3          4    italian       Chef John's Lemon Ice    4.64             10  [4 cups cold water,  7/8 cup white sugar,  2 t...        94   24.8      0.1           0      4\n",
       "4          5    italian           Focaccia di Recco    4.60             17  [2 cups all-purpose flour,  1/2 cup cold water...       186   24.1      4.7           7    327"
      ],
      "text/html": "<div>\n<style scoped>\n    .dataframe tbody tr th:only-of-type {\n        vertical-align: middle;\n    }\n\n    .dataframe tbody tr th {\n        vertical-align: top;\n    }\n\n    .dataframe thead th {\n        text-align: right;\n    }\n</style>\n<table border=\"1\" class=\"dataframe\">\n  <thead>\n    <tr style=\"text-align: right;\">\n      <th></th>\n      <th>recipe_id</th>\n      <th>recipe_tag</th>\n      <th>title</th>\n      <th>rating</th>\n      <th>total_reviews</th>\n      <th>ingredients</th>\n      <th>calories</th>\n      <th>carbs</th>\n      <th>protein</th>\n      <th>cholesterol</th>\n      <th>sodium</th>\n    </tr>\n  </thead>\n  <tbody>\n    <tr>\n      <th>0</th>\n      <td>1</td>\n      <td>italian</td>\n      <td>Italian Chicken Cacciatore</td>\n      <td>5.00</td>\n      <td>3</td>\n      <td>[1/4 cup olive oil, divided,  1 onion, diced, ...</td>\n      <td>587</td>\n      <td>36.5</td>\n      <td>38.8</td>\n      <td>117</td>\n      <td>1707</td>\n    </tr>\n    <tr>\n      <th>1</th>\n      <td>2</td>\n      <td>italian</td>\n      <td>Spaghetti Cacio e Pepe</td>\n      <td>4.58</td>\n      <td>73</td>\n      <td>[1 pound spaghetti,  6 tablespoons olive oil, ...</td>\n      <td>806</td>\n      <td>87.8</td>\n      <td>31.6</td>\n      <td>54</td>\n      <td>633</td>\n    </tr>\n    <tr>\n      <th>2</th>\n      <td>3</td>\n      <td>italian</td>\n      <td>Easy Caponata</td>\n      <td>4.67</td>\n      <td>3</td>\n      <td>[2 stalks stalk celery, chopped into 1/4-inch ...</td>\n      <td>289</td>\n      <td>25.2</td>\n      <td>4.4</td>\n      <td>0</td>\n      <td>424</td>\n    </tr>\n    <tr>\n      <th>3</th>\n      <td>4</td>\n      <td>italian</td>\n      <td>Chef John's Lemon Ice</td>\n      <td>4.64</td>\n      <td>10</td>\n      <td>[4 cups cold water,  7/8 cup white sugar,  2 t...</td>\n      <td>94</td>\n      <td>24.8</td>\n      <td>0.1</td>\n      <td>0</td>\n      <td>4</td>\n    </tr>\n    <tr>\n      <th>4</th>\n      <td>5</td>\n      <td>italian</td>\n      <td>Focaccia di Recco</td>\n      <td>4.60</td>\n      <td>17</td>\n      <td>[2 cups all-purpose flour,  1/2 cup cold water...</td>\n      <td>186</td>\n      <td>24.1</td>\n      <td>4.7</td>\n      <td>7</td>\n      <td>327</td>\n    </tr>\n  </tbody>\n</table>\n</div>"
     },
     "metadata": {},
     "execution_count": 13
    }
   ],
   "source": [
    "# First genereate the array of ingredients\n",
    "recipes['ingredients'] = recipes['ingredients'].apply(lambda a: a.replace(\"[\", \"\").replace(\"]\", \"\").replace(\"u'\",\"\")\\\n",
    "                                                      .split(\"',\"))\n",
    "\n",
    "recipes.head()"
   ]
  },
  {
   "cell_type": "code",
   "execution_count": 14,
   "metadata": {
    "tags": []
   },
   "outputs": [
    {
     "output_type": "execute_result",
     "data": {
      "text/plain": [
       "    recipe_id recipe_tag                                              title  rating  total_reviews                                        ingredients  calories  carbs  protein cholesterol sodium\n",
       "0           1    italian                         Italian Chicken Cacciatore    5.00              3  [olive oil, onion, all-purpose flour, salt, fr...       587   36.5     38.8         117   1707\n",
       "1           2    italian                             Spaghetti Cacio e Pepe    4.58             73  [spaghetti, olive oil, garlic, ground black pe...       806   87.8     31.6          54    633\n",
       "2           3    italian                                      Easy Caponata    4.67              3  [stalks stalk celery, olive oil, onion, medium...       289   25.2      4.4           0    424\n",
       "3           4    italian                              Chef John's Lemon Ice    4.64             10  [cold water, white sugar, lemon zest, freshly ...        94   24.8      0.1           0      4\n",
       "4           5    italian                                  Focaccia di Recco    4.60             17  [all-purpose flour, cold water, cold water, ex...       186   24.1      4.7           7    327\n",
       "5           6    italian  Frittata di Zucchine e Fiori di Zucca (Italian...    4.50              1  [extra-virgin olive oil, white onion, bunch pa...       267   10.3     14.5         284    250\n",
       "6           7    italian  Melanzana alla Parmigiana (Perfect Eggplant Pa...    3.50              1  [extra-virgin olive oil, eggplants, salt to ta...       506   36.8     28.9          83    453\n",
       "7           8    italian                   Affogato with Cold-Brewed Coffee    4.67              8  [medium-coarse ground coffee, cold water, vani...       109   15.4      2.1           9     46\n",
       "8           9    italian                               World's Best Lasagna    4.79          11758  [sweet italian sausage, lean ground beef,  oni...       448   36.5     29.7          82   1788\n",
       "9          10    italian                                    Chicken Marsala    4.54           3698  [all-purpose flour for coating, salt, ground b...       448   13.3     28.8          99    543\n",
       "10         11    italian                        Jay's Signature Pizza Crust    4.69           3172  [active dry yeast, brown sugar, warm water (11...       119   21.6      3.1           0    157\n",
       "11         12    italian          Bow Ties with Sausage, Tomatoes and Cream    4.69           2595  [(12 ounce) package bow tie pasta, olive oil, ...       656   50.9     20.1         111   1088\n",
       "12         13    italian                               Eggplant Parmesan II    4.45           2458  [eggplant, eggs, italian seasoned bread crumbs...       487   62.1     24.2          73   1663\n",
       "13         14    italian             Italian Spaghetti Sauce with Meatballs    4.52           2500  [meatballs, lean ground beef, fresh bread crum...       349   23.7     18.9          77   1492\n",
       "14         15    italian                               Italian Sausage Soup    4.81           2269  [italian sausage, garlic, (14 ounce) cans beef...       385   22.5     18.8          58   1259\n",
       "15         16    italian                           Double Tomato Bruschetta    4.82           2026  [roma (plum) tomatoes,  tomatoes,  garlic, oli...       215   24.8      9.6          12    426\n",
       "16         17    italian                             Garlic Cheddar Chicken    4.61           2085  [butter, garlic, dry bread crumbs, freshly gra...       400    8.4     34.5         129    488\n",
       "17         18    italian                           Gourmet Mushroom Risotto    4.79           1977  [chicken broth, olive oil, portobello mushroom...       431   56.6     11.3          29   1131\n",
       "18         19    italian                      Super-Delicious Zuppa Toscana    4.81           1954  [bulk mild italian sausage,  red pepper flakes...       554   45.8     19.8          99   2386\n",
       "19         20    italian                                   Chicken Parmesan    4.82           1901  [salt and freshly ground black pepper to taste...       471   24.8     42.1         187    840\n",
       "20         21    italian                                      Pizza Dough I    4.44           2179  [all-purpose flour, (.25 ounce) package active...       112   20.1      2.8           0    156\n",
       "21         22    italian                              Exquisite Pizza Sauce    4.55           1996  [(6 ounce) can tomato paste, warm water (110 d...        89   18.0      3.7           4    551\n",
       "22         23    italian                                   American Lasagna    4.68           1834  [lean ground beef, onion, garlic,  fresh basil...       664   48.3     50.9         168   1900\n",
       "23         24    italian                                     Chicken Milano    4.62           1734  [butter, garlic,  tomatoes, chicken broth, hea...       641   47.0     36.3         156    501\n",
       "24         25    italian            Slow Cooker Italian Beef for Sandwiches    4.63           1762  [water, salt, ground black pepper,  oregano,  ...       318    1.6     39.4         100    819\n",
       "25         26    italian               Italian Sausage Soup with Tortellini    4.82           1716  [sweet italian sausage,  onion, garlic, beef b...       324   19.1     14.6          50   1145\n",
       "26         27    italian                                 Jamie's Minestrone    4.72           1702  [olive oil, garlic, onions,  celery, carrots, ...       227   30.0      8.6           1   1142\n",
       "27         28    italian                         Balsamic Roasted Pork Loin    4.59           1802  [steak seasoning rub, balsamic vinegar, olive ...       299    3.1     18.3          55    732\n",
       "28         29    italian                       White Cheese Chicken Lasagna    4.39           1690  [lasagna noodles, butter, onion, garlic, all-p...       369   22.8     23.7          77    671\n",
       "29         30    italian                         Italian Breaded Pork Chops    4.49           1557  [eggs, milk, italian seasoned bread crumbs, gr...       440   33.4     30.0         186   1026"
      ],
      "text/html": "<div>\n<style scoped>\n    .dataframe tbody tr th:only-of-type {\n        vertical-align: middle;\n    }\n\n    .dataframe tbody tr th {\n        vertical-align: top;\n    }\n\n    .dataframe thead th {\n        text-align: right;\n    }\n</style>\n<table border=\"1\" class=\"dataframe\">\n  <thead>\n    <tr style=\"text-align: right;\">\n      <th></th>\n      <th>recipe_id</th>\n      <th>recipe_tag</th>\n      <th>title</th>\n      <th>rating</th>\n      <th>total_reviews</th>\n      <th>ingredients</th>\n      <th>calories</th>\n      <th>carbs</th>\n      <th>protein</th>\n      <th>cholesterol</th>\n      <th>sodium</th>\n    </tr>\n  </thead>\n  <tbody>\n    <tr>\n      <th>0</th>\n      <td>1</td>\n      <td>italian</td>\n      <td>Italian Chicken Cacciatore</td>\n      <td>5.00</td>\n      <td>3</td>\n      <td>[olive oil, onion, all-purpose flour, salt, fr...</td>\n      <td>587</td>\n      <td>36.5</td>\n      <td>38.8</td>\n      <td>117</td>\n      <td>1707</td>\n    </tr>\n    <tr>\n      <th>1</th>\n      <td>2</td>\n      <td>italian</td>\n      <td>Spaghetti Cacio e Pepe</td>\n      <td>4.58</td>\n      <td>73</td>\n      <td>[spaghetti, olive oil, garlic, ground black pe...</td>\n      <td>806</td>\n      <td>87.8</td>\n      <td>31.6</td>\n      <td>54</td>\n      <td>633</td>\n    </tr>\n    <tr>\n      <th>2</th>\n      <td>3</td>\n      <td>italian</td>\n      <td>Easy Caponata</td>\n      <td>4.67</td>\n      <td>3</td>\n      <td>[stalks stalk celery, olive oil, onion, medium...</td>\n      <td>289</td>\n      <td>25.2</td>\n      <td>4.4</td>\n      <td>0</td>\n      <td>424</td>\n    </tr>\n    <tr>\n      <th>3</th>\n      <td>4</td>\n      <td>italian</td>\n      <td>Chef John's Lemon Ice</td>\n      <td>4.64</td>\n      <td>10</td>\n      <td>[cold water, white sugar, lemon zest, freshly ...</td>\n      <td>94</td>\n      <td>24.8</td>\n      <td>0.1</td>\n      <td>0</td>\n      <td>4</td>\n    </tr>\n    <tr>\n      <th>4</th>\n      <td>5</td>\n      <td>italian</td>\n      <td>Focaccia di Recco</td>\n      <td>4.60</td>\n      <td>17</td>\n      <td>[all-purpose flour, cold water, cold water, ex...</td>\n      <td>186</td>\n      <td>24.1</td>\n      <td>4.7</td>\n      <td>7</td>\n      <td>327</td>\n    </tr>\n    <tr>\n      <th>5</th>\n      <td>6</td>\n      <td>italian</td>\n      <td>Frittata di Zucchine e Fiori di Zucca (Italian...</td>\n      <td>4.50</td>\n      <td>1</td>\n      <td>[extra-virgin olive oil, white onion, bunch pa...</td>\n      <td>267</td>\n      <td>10.3</td>\n      <td>14.5</td>\n      <td>284</td>\n      <td>250</td>\n    </tr>\n    <tr>\n      <th>6</th>\n      <td>7</td>\n      <td>italian</td>\n      <td>Melanzana alla Parmigiana (Perfect Eggplant Pa...</td>\n      <td>3.50</td>\n      <td>1</td>\n      <td>[extra-virgin olive oil, eggplants, salt to ta...</td>\n      <td>506</td>\n      <td>36.8</td>\n      <td>28.9</td>\n      <td>83</td>\n      <td>453</td>\n    </tr>\n    <tr>\n      <th>7</th>\n      <td>8</td>\n      <td>italian</td>\n      <td>Affogato with Cold-Brewed Coffee</td>\n      <td>4.67</td>\n      <td>8</td>\n      <td>[medium-coarse ground coffee, cold water, vani...</td>\n      <td>109</td>\n      <td>15.4</td>\n      <td>2.1</td>\n      <td>9</td>\n      <td>46</td>\n    </tr>\n    <tr>\n      <th>8</th>\n      <td>9</td>\n      <td>italian</td>\n      <td>World's Best Lasagna</td>\n      <td>4.79</td>\n      <td>11758</td>\n      <td>[sweet italian sausage, lean ground beef,  oni...</td>\n      <td>448</td>\n      <td>36.5</td>\n      <td>29.7</td>\n      <td>82</td>\n      <td>1788</td>\n    </tr>\n    <tr>\n      <th>9</th>\n      <td>10</td>\n      <td>italian</td>\n      <td>Chicken Marsala</td>\n      <td>4.54</td>\n      <td>3698</td>\n      <td>[all-purpose flour for coating, salt, ground b...</td>\n      <td>448</td>\n      <td>13.3</td>\n      <td>28.8</td>\n      <td>99</td>\n      <td>543</td>\n    </tr>\n    <tr>\n      <th>10</th>\n      <td>11</td>\n      <td>italian</td>\n      <td>Jay's Signature Pizza Crust</td>\n      <td>4.69</td>\n      <td>3172</td>\n      <td>[active dry yeast, brown sugar, warm water (11...</td>\n      <td>119</td>\n      <td>21.6</td>\n      <td>3.1</td>\n      <td>0</td>\n      <td>157</td>\n    </tr>\n    <tr>\n      <th>11</th>\n      <td>12</td>\n      <td>italian</td>\n      <td>Bow Ties with Sausage, Tomatoes and Cream</td>\n      <td>4.69</td>\n      <td>2595</td>\n      <td>[(12 ounce) package bow tie pasta, olive oil, ...</td>\n      <td>656</td>\n      <td>50.9</td>\n      <td>20.1</td>\n      <td>111</td>\n      <td>1088</td>\n    </tr>\n    <tr>\n      <th>12</th>\n      <td>13</td>\n      <td>italian</td>\n      <td>Eggplant Parmesan II</td>\n      <td>4.45</td>\n      <td>2458</td>\n      <td>[eggplant, eggs, italian seasoned bread crumbs...</td>\n      <td>487</td>\n      <td>62.1</td>\n      <td>24.2</td>\n      <td>73</td>\n      <td>1663</td>\n    </tr>\n    <tr>\n      <th>13</th>\n      <td>14</td>\n      <td>italian</td>\n      <td>Italian Spaghetti Sauce with Meatballs</td>\n      <td>4.52</td>\n      <td>2500</td>\n      <td>[meatballs, lean ground beef, fresh bread crum...</td>\n      <td>349</td>\n      <td>23.7</td>\n      <td>18.9</td>\n      <td>77</td>\n      <td>1492</td>\n    </tr>\n    <tr>\n      <th>14</th>\n      <td>15</td>\n      <td>italian</td>\n      <td>Italian Sausage Soup</td>\n      <td>4.81</td>\n      <td>2269</td>\n      <td>[italian sausage, garlic, (14 ounce) cans beef...</td>\n      <td>385</td>\n      <td>22.5</td>\n      <td>18.8</td>\n      <td>58</td>\n      <td>1259</td>\n    </tr>\n    <tr>\n      <th>15</th>\n      <td>16</td>\n      <td>italian</td>\n      <td>Double Tomato Bruschetta</td>\n      <td>4.82</td>\n      <td>2026</td>\n      <td>[roma (plum) tomatoes,  tomatoes,  garlic, oli...</td>\n      <td>215</td>\n      <td>24.8</td>\n      <td>9.6</td>\n      <td>12</td>\n      <td>426</td>\n    </tr>\n    <tr>\n      <th>16</th>\n      <td>17</td>\n      <td>italian</td>\n      <td>Garlic Cheddar Chicken</td>\n      <td>4.61</td>\n      <td>2085</td>\n      <td>[butter, garlic, dry bread crumbs, freshly gra...</td>\n      <td>400</td>\n      <td>8.4</td>\n      <td>34.5</td>\n      <td>129</td>\n      <td>488</td>\n    </tr>\n    <tr>\n      <th>17</th>\n      <td>18</td>\n      <td>italian</td>\n      <td>Gourmet Mushroom Risotto</td>\n      <td>4.79</td>\n      <td>1977</td>\n      <td>[chicken broth, olive oil, portobello mushroom...</td>\n      <td>431</td>\n      <td>56.6</td>\n      <td>11.3</td>\n      <td>29</td>\n      <td>1131</td>\n    </tr>\n    <tr>\n      <th>18</th>\n      <td>19</td>\n      <td>italian</td>\n      <td>Super-Delicious Zuppa Toscana</td>\n      <td>4.81</td>\n      <td>1954</td>\n      <td>[bulk mild italian sausage,  red pepper flakes...</td>\n      <td>554</td>\n      <td>45.8</td>\n      <td>19.8</td>\n      <td>99</td>\n      <td>2386</td>\n    </tr>\n    <tr>\n      <th>19</th>\n      <td>20</td>\n      <td>italian</td>\n      <td>Chicken Parmesan</td>\n      <td>4.82</td>\n      <td>1901</td>\n      <td>[salt and freshly ground black pepper to taste...</td>\n      <td>471</td>\n      <td>24.8</td>\n      <td>42.1</td>\n      <td>187</td>\n      <td>840</td>\n    </tr>\n    <tr>\n      <th>20</th>\n      <td>21</td>\n      <td>italian</td>\n      <td>Pizza Dough I</td>\n      <td>4.44</td>\n      <td>2179</td>\n      <td>[all-purpose flour, (.25 ounce) package active...</td>\n      <td>112</td>\n      <td>20.1</td>\n      <td>2.8</td>\n      <td>0</td>\n      <td>156</td>\n    </tr>\n    <tr>\n      <th>21</th>\n      <td>22</td>\n      <td>italian</td>\n      <td>Exquisite Pizza Sauce</td>\n      <td>4.55</td>\n      <td>1996</td>\n      <td>[(6 ounce) can tomato paste, warm water (110 d...</td>\n      <td>89</td>\n      <td>18.0</td>\n      <td>3.7</td>\n      <td>4</td>\n      <td>551</td>\n    </tr>\n    <tr>\n      <th>22</th>\n      <td>23</td>\n      <td>italian</td>\n      <td>American Lasagna</td>\n      <td>4.68</td>\n      <td>1834</td>\n      <td>[lean ground beef, onion, garlic,  fresh basil...</td>\n      <td>664</td>\n      <td>48.3</td>\n      <td>50.9</td>\n      <td>168</td>\n      <td>1900</td>\n    </tr>\n    <tr>\n      <th>23</th>\n      <td>24</td>\n      <td>italian</td>\n      <td>Chicken Milano</td>\n      <td>4.62</td>\n      <td>1734</td>\n      <td>[butter, garlic,  tomatoes, chicken broth, hea...</td>\n      <td>641</td>\n      <td>47.0</td>\n      <td>36.3</td>\n      <td>156</td>\n      <td>501</td>\n    </tr>\n    <tr>\n      <th>24</th>\n      <td>25</td>\n      <td>italian</td>\n      <td>Slow Cooker Italian Beef for Sandwiches</td>\n      <td>4.63</td>\n      <td>1762</td>\n      <td>[water, salt, ground black pepper,  oregano,  ...</td>\n      <td>318</td>\n      <td>1.6</td>\n      <td>39.4</td>\n      <td>100</td>\n      <td>819</td>\n    </tr>\n    <tr>\n      <th>25</th>\n      <td>26</td>\n      <td>italian</td>\n      <td>Italian Sausage Soup with Tortellini</td>\n      <td>4.82</td>\n      <td>1716</td>\n      <td>[sweet italian sausage,  onion, garlic, beef b...</td>\n      <td>324</td>\n      <td>19.1</td>\n      <td>14.6</td>\n      <td>50</td>\n      <td>1145</td>\n    </tr>\n    <tr>\n      <th>26</th>\n      <td>27</td>\n      <td>italian</td>\n      <td>Jamie's Minestrone</td>\n      <td>4.72</td>\n      <td>1702</td>\n      <td>[olive oil, garlic, onions,  celery, carrots, ...</td>\n      <td>227</td>\n      <td>30.0</td>\n      <td>8.6</td>\n      <td>1</td>\n      <td>1142</td>\n    </tr>\n    <tr>\n      <th>27</th>\n      <td>28</td>\n      <td>italian</td>\n      <td>Balsamic Roasted Pork Loin</td>\n      <td>4.59</td>\n      <td>1802</td>\n      <td>[steak seasoning rub, balsamic vinegar, olive ...</td>\n      <td>299</td>\n      <td>3.1</td>\n      <td>18.3</td>\n      <td>55</td>\n      <td>732</td>\n    </tr>\n    <tr>\n      <th>28</th>\n      <td>29</td>\n      <td>italian</td>\n      <td>White Cheese Chicken Lasagna</td>\n      <td>4.39</td>\n      <td>1690</td>\n      <td>[lasagna noodles, butter, onion, garlic, all-p...</td>\n      <td>369</td>\n      <td>22.8</td>\n      <td>23.7</td>\n      <td>77</td>\n      <td>671</td>\n    </tr>\n    <tr>\n      <th>29</th>\n      <td>30</td>\n      <td>italian</td>\n      <td>Italian Breaded Pork Chops</td>\n      <td>4.49</td>\n      <td>1557</td>\n      <td>[eggs, milk, italian seasoned bread crumbs, gr...</td>\n      <td>440</td>\n      <td>33.4</td>\n      <td>30.0</td>\n      <td>186</td>\n      <td>1026</td>\n    </tr>\n  </tbody>\n</table>\n</div>"
     },
     "metadata": {},
     "execution_count": 14
    }
   ],
   "source": [
    "# This makes use of the model from NY Times that will take the ingredients and predict the base root ingredient\n",
    "# Example: 1/4 cup olive oil, will be predicted to be as olive oil (hopefully)\n",
    "# Repo found here: https://github.com/NYTimes/ingredient-phrase-tagger\n",
    "def process_ingredients(data):\n",
    "    data_to_parse = np.asarray(data)\n",
    "    parsed = []\n",
    "    list_lol = [\"sliced\",\"diced\",\"chopped\",\"dried\",\"minced\",\"crushed\",\"grated\",\"shredded\",\"marinated\",\"sweetened\",\"crumbled\", \"cooked\", \"cubed\",\"smoked\", \"uncooked\", \"toasted\"]\n",
    "    for ingre in data_to_parse:\n",
    "        str_parsed = parse(ingre).get(\"name\")\n",
    "        string = str_parsed.split(\",\", 1)[0]\n",
    "        for lol in list_lol:\n",
    "            if lol in string:\n",
    "                string = string.split(lol, 1)[1]\n",
    "        # if \"sliced\" in somestring: \n",
    "        #     string = string.split(\"sliced\", 1)[1]\n",
    "        # if \"sliced\" in somestring:\n",
    "        #     string = string.split(\"diced\", 1)[1]\n",
    "        # if \"sliced\" in somestring:\n",
    "        #     string = string.split(\"chopped\", 1)[1]\n",
    "        # if \"sliced\" in somestring:\n",
    "        #     string = string.split(\"dried\", 1)[1]\n",
    "        # if \"sliced\" in somestring:\n",
    "        #     string = string.split(\"minced\", 1)[1]\n",
    "        # if \"sliced\" in somestring:\n",
    "        #     string = string.split(\"crushed\", 1)[1]\n",
    "        # string = string.split(\"grated\", 1)[1]\n",
    "        if string == \"skinless\":\n",
    "            continue\n",
    "        parsed.append(string)\n",
    "    parsed = str(parsed).lower().replace(\"'\", \"\").replace('\"','')\n",
    "    return parsed\n",
    "\n",
    "recipes['ingredients'] = recipes['ingredients'].apply(lambda x: process_ingredients(x))\n",
    "recipes.head(30)\n",
    "\n"
   ]
  },
  {
   "cell_type": "code",
   "execution_count": 15,
   "metadata": {},
   "outputs": [],
   "source": [
    "# write it out to csv\n",
    "recipes.to_csv(\"../../data/clean_recipes.csv\", index=False)"
   ]
  },
  {
   "cell_type": "code",
   "execution_count": null,
   "metadata": {},
   "outputs": [],
   "source": []
  }
 ],
 "metadata": {
  "kernelspec": {
   "name": "python3",
   "display_name": "Python 3.8.5 32-bit",
   "metadata": {
    "interpreter": {
     "hash": "44ae528d530ff5214a4e67d6eab0539bb4104251dfd4bb6cdf9c546dbe7b60cf"
    }
   }
  },
  "language_info": {
   "codemirror_mode": {
    "name": "ipython",
    "version": 2
   },
   "file_extension": ".py",
   "mimetype": "text/x-python",
   "name": "python",
   "nbconvert_exporter": "python",
   "pygments_lexer": "ipython2",
   "version": "3.8.5-final"
  }
 },
 "nbformat": 4,
 "nbformat_minor": 2
}