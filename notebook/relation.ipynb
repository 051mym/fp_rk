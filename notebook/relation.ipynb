{
 "metadata": {
  "language_info": {
   "codemirror_mode": {
    "name": "ipython",
    "version": 3
   },
   "file_extension": ".py",
   "mimetype": "text/x-python",
   "name": "python",
   "nbconvert_exporter": "python",
   "pygments_lexer": "ipython3",
   "version": "3.8.5-final"
  },
  "orig_nbformat": 2,
  "kernelspec": {
   "name": "python3",
   "display_name": "Python 3.8.5 32-bit",
   "metadata": {
    "interpreter": {
     "hash": "44ae528d530ff5214a4e67d6eab0539bb4104251dfd4bb6cdf9c546dbe7b60cf"
    }
   }
  }
 },
 "nbformat": 4,
 "nbformat_minor": 2,
 "cells": [
  {
   "cell_type": "code",
   "execution_count": 1,
   "metadata": {},
   "outputs": [],
   "source": [
    "import pandas as pd\n",
    "import csv\n",
    "import numpy as np\n",
    "import re"
   ]
  },
  {
   "cell_type": "code",
   "execution_count": 2,
   "metadata": {},
   "outputs": [
    {
     "output_type": "execute_result",
     "data": {
      "text/plain": [
       "   recipe_id recipe_tag                       title  rating  total_reviews  \\\n",
       "0          1    italian  Italian Chicken Cacciatore    5.00              3   \n",
       "1          2    italian      Spaghetti Cacio e Pepe    4.58             73   \n",
       "2          3    italian               Easy Caponata    4.67              3   \n",
       "3          4    italian       Chef John's Lemon Ice    4.64             10   \n",
       "4          5    italian           Focaccia di Recco    4.60             17   \n",
       "\n",
       "                                         ingredients  calories  carbs  \\\n",
       "0  ['all-purpose flour', 'chicken', 'pepper', 'bl...       587   36.5   \n",
       "1  [\"Pecorino Romano cheese'\", 'pepper', 'garlic'...       806   87.8   \n",
       "2  ['pine nuts', 'zucchini', 'pepper', 'black oli...       289   25.2   \n",
       "3  ['water', 'white sugar', \"lemon extract'\", 'le...        94   24.8   \n",
       "4  ['quarter-sheet baking pan', 'all-purpose flou...       186   24.1   \n",
       "\n",
       "   protein cholesterol sodium  \n",
       "0     38.8         117   1707  \n",
       "1     31.6          54    633  \n",
       "2      4.4           0    424  \n",
       "3      0.1           0      4  \n",
       "4      4.7           7    327  "
      ],
      "text/html": "<div>\n<style scoped>\n    .dataframe tbody tr th:only-of-type {\n        vertical-align: middle;\n    }\n\n    .dataframe tbody tr th {\n        vertical-align: top;\n    }\n\n    .dataframe thead th {\n        text-align: right;\n    }\n</style>\n<table border=\"1\" class=\"dataframe\">\n  <thead>\n    <tr style=\"text-align: right;\">\n      <th></th>\n      <th>recipe_id</th>\n      <th>recipe_tag</th>\n      <th>title</th>\n      <th>rating</th>\n      <th>total_reviews</th>\n      <th>ingredients</th>\n      <th>calories</th>\n      <th>carbs</th>\n      <th>protein</th>\n      <th>cholesterol</th>\n      <th>sodium</th>\n    </tr>\n  </thead>\n  <tbody>\n    <tr>\n      <th>0</th>\n      <td>1</td>\n      <td>italian</td>\n      <td>Italian Chicken Cacciatore</td>\n      <td>5.00</td>\n      <td>3</td>\n      <td>['all-purpose flour', 'chicken', 'pepper', 'bl...</td>\n      <td>587</td>\n      <td>36.5</td>\n      <td>38.8</td>\n      <td>117</td>\n      <td>1707</td>\n    </tr>\n    <tr>\n      <th>1</th>\n      <td>2</td>\n      <td>italian</td>\n      <td>Spaghetti Cacio e Pepe</td>\n      <td>4.58</td>\n      <td>73</td>\n      <td>[\"Pecorino Romano cheese'\", 'pepper', 'garlic'...</td>\n      <td>806</td>\n      <td>87.8</td>\n      <td>31.6</td>\n      <td>54</td>\n      <td>633</td>\n    </tr>\n    <tr>\n      <th>2</th>\n      <td>3</td>\n      <td>italian</td>\n      <td>Easy Caponata</td>\n      <td>4.67</td>\n      <td>3</td>\n      <td>['pine nuts', 'zucchini', 'pepper', 'black oli...</td>\n      <td>289</td>\n      <td>25.2</td>\n      <td>4.4</td>\n      <td>0</td>\n      <td>424</td>\n    </tr>\n    <tr>\n      <th>3</th>\n      <td>4</td>\n      <td>italian</td>\n      <td>Chef John's Lemon Ice</td>\n      <td>4.64</td>\n      <td>10</td>\n      <td>['water', 'white sugar', \"lemon extract'\", 'le...</td>\n      <td>94</td>\n      <td>24.8</td>\n      <td>0.1</td>\n      <td>0</td>\n      <td>4</td>\n    </tr>\n    <tr>\n      <th>4</th>\n      <td>5</td>\n      <td>italian</td>\n      <td>Focaccia di Recco</td>\n      <td>4.60</td>\n      <td>17</td>\n      <td>['quarter-sheet baking pan', 'all-purpose flou...</td>\n      <td>186</td>\n      <td>24.1</td>\n      <td>4.7</td>\n      <td>7</td>\n      <td>327</td>\n    </tr>\n  </tbody>\n</table>\n</div>"
     },
     "metadata": {},
     "execution_count": 2
    }
   ],
   "source": [
    "relasi = pd.read_csv('../data/clean_recipes.csv')\n",
    "relasi.columns=['recipe_id', 'recipe_tag', 'title', 'rating', 'total_reviews', 'ingredients', 'calories', 'carbs',\\\n",
    "                'protein', 'cholesterol', 'sodium']\n",
    "relasi.head()"
   ]
  },
  {
   "cell_type": "code",
   "execution_count": 3,
   "metadata": {},
   "outputs": [
    {
     "output_type": "execute_result",
     "data": {
      "text/plain": [
       "                        title       ingredients\n",
       "0  Italian Chicken Cacciatore  allpurpose flour\n",
       "1  Italian Chicken Cacciatore           chicken\n",
       "2  Italian Chicken Cacciatore            pepper\n",
       "3  Italian Chicken Cacciatore      black olives\n",
       "4  Italian Chicken Cacciatore    s tomato paste"
      ],
      "text/html": "<div>\n<style scoped>\n    .dataframe tbody tr th:only-of-type {\n        vertical-align: middle;\n    }\n\n    .dataframe tbody tr th {\n        vertical-align: top;\n    }\n\n    .dataframe thead th {\n        text-align: right;\n    }\n</style>\n<table border=\"1\" class=\"dataframe\">\n  <thead>\n    <tr style=\"text-align: right;\">\n      <th></th>\n      <th>title</th>\n      <th>ingredients</th>\n    </tr>\n  </thead>\n  <tbody>\n    <tr>\n      <th>0</th>\n      <td>Italian Chicken Cacciatore</td>\n      <td>allpurpose flour</td>\n    </tr>\n    <tr>\n      <th>1</th>\n      <td>Italian Chicken Cacciatore</td>\n      <td>chicken</td>\n    </tr>\n    <tr>\n      <th>2</th>\n      <td>Italian Chicken Cacciatore</td>\n      <td>pepper</td>\n    </tr>\n    <tr>\n      <th>3</th>\n      <td>Italian Chicken Cacciatore</td>\n      <td>black olives</td>\n    </tr>\n    <tr>\n      <th>4</th>\n      <td>Italian Chicken Cacciatore</td>\n      <td>s tomato paste</td>\n    </tr>\n  </tbody>\n</table>\n</div>"
     },
     "metadata": {},
     "execution_count": 3
    }
   ],
   "source": [
    "df = pd.DataFrame(columns=[\"title\",\"ingredients\"])\n",
    "i = 0\n",
    "for index, row in relasi.iterrows():\n",
    "    list_ingre = row[\"ingredients\"].replace(\"[\", \"\").replace(\"]\", \"\")\\\n",
    "                                                      .replace(\" '\", \"\").replace(\"'\", \"\")\\\n",
    "                                                      .replace('\"', '')\\\n",
    "                                                      .split(\",\")\n",
    "    for x in list_ingre:\n",
    "        df.loc[i] = [re.sub('[^a-zA-Z0-9\\n\\.\\ ]', '', row[\"title\"])] + [re.sub('[^a-zA-Z0-9\\n\\.\\ ]', '', x)]\n",
    "        i += 1\n",
    "    # print(row['title'], row['ingredients'])\n",
    "df.head()\n",
    "\n"
   ]
  },
  {
   "cell_type": "code",
   "execution_count": 4,
   "metadata": {},
   "outputs": [],
   "source": [
    "df.to_csv(\"../data/relation.csv\", index=False)"
   ]
  },
  {
   "cell_type": "code",
   "execution_count": null,
   "metadata": {},
   "outputs": [],
   "source": []
  }
 ]
}