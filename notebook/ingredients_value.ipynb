{
 "cells": [
  {
   "cell_type": "code",
   "execution_count": 1,
   "metadata": {},
   "outputs": [],
   "source": [
    "import pandas as pd\n",
    "import csv\n",
    "import os\n",
    "import numpy as np\n",
    "import matplotlib.pyplot as plt"
   ]
  },
  {
   "cell_type": "code",
   "execution_count": 2,
   "metadata": {},
   "outputs": [
    {
     "output_type": "execute_result",
     "data": {
      "text/plain": [
       "   recipe_id recipe_tag                       title  rating  total_reviews  \\\n",
       "0          1    italian  Italian Chicken Cacciatore    5.00              3   \n",
       "1          2    italian      Spaghetti Cacio e Pepe    4.58             73   \n",
       "2          3    italian               Easy Caponata    4.67              3   \n",
       "3          4    italian       Chef John's Lemon Ice    4.64             10   \n",
       "4          5    italian           Focaccia di Recco    4.60             17   \n",
       "\n",
       "                                         ingredients  calories  carbs  \\\n",
       "0  ['chicken', 'pepper', 'dry white wine', 's tom...       587   36.5   \n",
       "1  ['pepper', \"Pecorino Romano cheese'\", 'olive o...       806   87.8   \n",
       "2  ['black olives', 'pepper', ' eggplant', 'onion...       289   25.2   \n",
       "3  ['water', \"lemon extract'\", 'ly squeezed lemon...        94   24.8   \n",
       "4  ['water', 'quarter-sheet baking pan', 'extra-v...       186   24.1   \n",
       "\n",
       "   protein cholesterol sodium  \n",
       "0     38.8         117   1707  \n",
       "1     31.6          54    633  \n",
       "2      4.4           0    424  \n",
       "3      0.1           0      4  \n",
       "4      4.7           7    327  "
      ],
      "text/html": "<div>\n<style scoped>\n    .dataframe tbody tr th:only-of-type {\n        vertical-align: middle;\n    }\n\n    .dataframe tbody tr th {\n        vertical-align: top;\n    }\n\n    .dataframe thead th {\n        text-align: right;\n    }\n</style>\n<table border=\"1\" class=\"dataframe\">\n  <thead>\n    <tr style=\"text-align: right;\">\n      <th></th>\n      <th>recipe_id</th>\n      <th>recipe_tag</th>\n      <th>title</th>\n      <th>rating</th>\n      <th>total_reviews</th>\n      <th>ingredients</th>\n      <th>calories</th>\n      <th>carbs</th>\n      <th>protein</th>\n      <th>cholesterol</th>\n      <th>sodium</th>\n    </tr>\n  </thead>\n  <tbody>\n    <tr>\n      <th>0</th>\n      <td>1</td>\n      <td>italian</td>\n      <td>Italian Chicken Cacciatore</td>\n      <td>5.00</td>\n      <td>3</td>\n      <td>['chicken', 'pepper', 'dry white wine', 's tom...</td>\n      <td>587</td>\n      <td>36.5</td>\n      <td>38.8</td>\n      <td>117</td>\n      <td>1707</td>\n    </tr>\n    <tr>\n      <th>1</th>\n      <td>2</td>\n      <td>italian</td>\n      <td>Spaghetti Cacio e Pepe</td>\n      <td>4.58</td>\n      <td>73</td>\n      <td>['pepper', \"Pecorino Romano cheese'\", 'olive o...</td>\n      <td>806</td>\n      <td>87.8</td>\n      <td>31.6</td>\n      <td>54</td>\n      <td>633</td>\n    </tr>\n    <tr>\n      <th>2</th>\n      <td>3</td>\n      <td>italian</td>\n      <td>Easy Caponata</td>\n      <td>4.67</td>\n      <td>3</td>\n      <td>['black olives', 'pepper', ' eggplant', 'onion...</td>\n      <td>289</td>\n      <td>25.2</td>\n      <td>4.4</td>\n      <td>0</td>\n      <td>424</td>\n    </tr>\n    <tr>\n      <th>3</th>\n      <td>4</td>\n      <td>italian</td>\n      <td>Chef John's Lemon Ice</td>\n      <td>4.64</td>\n      <td>10</td>\n      <td>['water', \"lemon extract'\", 'ly squeezed lemon...</td>\n      <td>94</td>\n      <td>24.8</td>\n      <td>0.1</td>\n      <td>0</td>\n      <td>4</td>\n    </tr>\n    <tr>\n      <th>4</th>\n      <td>5</td>\n      <td>italian</td>\n      <td>Focaccia di Recco</td>\n      <td>4.60</td>\n      <td>17</td>\n      <td>['water', 'quarter-sheet baking pan', 'extra-v...</td>\n      <td>186</td>\n      <td>24.1</td>\n      <td>4.7</td>\n      <td>7</td>\n      <td>327</td>\n    </tr>\n  </tbody>\n</table>\n</div>"
     },
     "metadata": {},
     "execution_count": 2
    }
   ],
   "source": [
    "# Read in data and add the column names\n",
    "recipes = pd.read_csv('../data/clean_recipes.csv')\n",
    "recipes.columns=['recipe_id', 'recipe_tag', 'title', 'rating', 'total_reviews', 'ingredients', 'calories', 'carbs',\\\n",
    "                'protein', 'cholesterol', 'sodium']\n",
    "recipes.head()"
   ]
  },
  {
   "cell_type": "code",
   "execution_count": 3,
   "metadata": {},
   "outputs": [],
   "source": [
    "# Process the data and get a count of how many times an ingredient occurs in the recipes\n",
    "recipes['ingredients'] = recipes['ingredients'].apply(lambda a: a.replace(\"[\", \"\").replace(\"]\", \"\")\\\n",
    "                                                      .replace(\" '\", \"\").replace(\"'\", \"\")\\\n",
    "                                                      .replace('\"', '')\\\n",
    "                                                      .split(\",\"))\n",
    "ingredients = recipes['ingredients'].apply(pd.Series).stack().reset_index(drop=True)\\\n",
    ".to_frame('ingredients')['ingredients'].value_counts().to_frame('values')\n",
    "\n",
    "ingredients = ingredients[ingredients['values']>5].to_dict()['values']\n",
    "clean_ingredients = { k.strip():v for k, v in ingredients.items()}\n"
   ]
  },
  {
   "cell_type": "code",
   "execution_count": 4,
   "metadata": {},
   "outputs": [
    {
     "output_type": "execute_result",
     "data": {
      "text/plain": [
       "  ingredients  total   value\n",
       "0      pepper    417  rendah\n",
       "1        salt    410  rendah\n",
       "2      garlic    317  rendah\n",
       "3       water    250  sedang\n",
       "4       onion     15  tinggi"
      ],
      "text/html": "<div>\n<style scoped>\n    .dataframe tbody tr th:only-of-type {\n        vertical-align: middle;\n    }\n\n    .dataframe tbody tr th {\n        vertical-align: top;\n    }\n\n    .dataframe thead th {\n        text-align: right;\n    }\n</style>\n<table border=\"1\" class=\"dataframe\">\n  <thead>\n    <tr style=\"text-align: right;\">\n      <th></th>\n      <th>ingredients</th>\n      <th>total</th>\n      <th>value</th>\n    </tr>\n  </thead>\n  <tbody>\n    <tr>\n      <th>0</th>\n      <td>pepper</td>\n      <td>417</td>\n      <td>rendah</td>\n    </tr>\n    <tr>\n      <th>1</th>\n      <td>salt</td>\n      <td>410</td>\n      <td>rendah</td>\n    </tr>\n    <tr>\n      <th>2</th>\n      <td>garlic</td>\n      <td>317</td>\n      <td>rendah</td>\n    </tr>\n    <tr>\n      <th>3</th>\n      <td>water</td>\n      <td>250</td>\n      <td>sedang</td>\n    </tr>\n    <tr>\n      <th>4</th>\n      <td>onion</td>\n      <td>15</td>\n      <td>tinggi</td>\n    </tr>\n  </tbody>\n</table>\n</div>"
     },
     "metadata": {},
     "execution_count": 4
    }
   ],
   "source": [
    "df = pd.DataFrame (list(clean_ingredients.items()), columns = ['ingredients','total'])\n",
    "max_value = df[\"total\"].max()\n",
    "min_value = df[\"total\"].min()\n",
    "batas_bawah = (max_value - min_value)/3\n",
    "batas_atas = (max_value - min_value)*2/3\n",
    "conditions = [\n",
    "    (df['total'] <= batas_bawah),\n",
    "    (df['total'] > batas_bawah) & (df['total'] <= batas_atas),\n",
    "    (df['total'] > batas_atas)\n",
    "    ]\n",
    "\n",
    "# create a list of the values we want to assign for each condition\n",
    "values = ['tinggi', 'sedang', 'rendah']\n",
    "\n",
    "# create a new column and use np.select to assign values to it using our lists as arguments\n",
    "df['value'] = np.select(conditions, values)\n",
    "df.head()\n"
   ]
  },
  {
   "cell_type": "code",
   "execution_count": 5,
   "metadata": {},
   "outputs": [],
   "source": [
    "df.to_csv(\"../data/ingredients.csv\", index=False)"
   ]
  }
 ],
 "metadata": {
  "kernelspec": {
   "name": "python3",
   "display_name": "Python 3.8.5 32-bit",
   "metadata": {
    "interpreter": {
     "hash": "44ae528d530ff5214a4e67d6eab0539bb4104251dfd4bb6cdf9c546dbe7b60cf"
    }
   }
  },
  "language_info": {
   "codemirror_mode": {
    "name": "ipython",
    "version": 2
   },
   "file_extension": ".py",
   "mimetype": "text/x-python",
   "name": "python",
   "nbconvert_exporter": "python",
   "pygments_lexer": "ipython2",
   "version": "3.8.5-final"
  }
 },
 "nbformat": 4,
 "nbformat_minor": 2
}